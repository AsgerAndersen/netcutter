{
 "cells": [
  {
   "cell_type": "code",
   "execution_count": 1,
   "metadata": {
    "collapsed": true
   },
   "outputs": [],
   "source": [
    "import numpy as np\n",
    "import pandas as pd\n",
    "import seaborn as sns\n",
    "% matplotlib inline"
   ]
  },
  {
   "cell_type": "code",
   "execution_count": 2,
   "metadata": {
    "collapsed": true
   },
   "outputs": [],
   "source": [
    "df = pd.read_csv('sodas_data.csv')"
   ]
  },
  {
   "cell_type": "code",
   "execution_count": 3,
   "metadata": {},
   "outputs": [
    {
     "data": {
      "text/plain": [
       "(820194, 9)"
      ]
     },
     "execution_count": 3,
     "metadata": {},
     "output_type": "execute_result"
    }
   ],
   "source": [
    "df.shape"
   ]
  },
  {
   "cell_type": "code",
   "execution_count": 4,
   "metadata": {},
   "outputs": [
    {
     "data": {
      "text/html": [
       "<div>\n",
       "<style>\n",
       "    .dataframe thead tr:only-child th {\n",
       "        text-align: right;\n",
       "    }\n",
       "\n",
       "    .dataframe thead th {\n",
       "        text-align: left;\n",
       "    }\n",
       "\n",
       "    .dataframe tbody tr th {\n",
       "        vertical-align: top;\n",
       "    }\n",
       "</style>\n",
       "<table border=\"1\" class=\"dataframe\">\n",
       "  <thead>\n",
       "    <tr style=\"text-align: right;\">\n",
       "      <th></th>\n",
       "      <th>Unnamed: 0</th>\n",
       "      <th>user</th>\n",
       "      <th>user2</th>\n",
       "      <th>ts</th>\n",
       "      <th>rssi</th>\n",
       "      <th>weekday</th>\n",
       "      <th>hour</th>\n",
       "      <th>minute</th>\n",
       "      <th>second</th>\n",
       "    </tr>\n",
       "  </thead>\n",
       "  <tbody>\n",
       "    <tr>\n",
       "      <th>0</th>\n",
       "      <td>0</td>\n",
       "      <td>780</td>\n",
       "      <td>325</td>\n",
       "      <td>4.0</td>\n",
       "      <td>-93</td>\n",
       "      <td>0</td>\n",
       "      <td>0</td>\n",
       "      <td>0</td>\n",
       "      <td>4</td>\n",
       "    </tr>\n",
       "    <tr>\n",
       "      <th>1</th>\n",
       "      <td>1</td>\n",
       "      <td>600</td>\n",
       "      <td>632</td>\n",
       "      <td>9.0</td>\n",
       "      <td>-97</td>\n",
       "      <td>0</td>\n",
       "      <td>0</td>\n",
       "      <td>0</td>\n",
       "      <td>9</td>\n",
       "    </tr>\n",
       "    <tr>\n",
       "      <th>2</th>\n",
       "      <td>2</td>\n",
       "      <td>47</td>\n",
       "      <td>448</td>\n",
       "      <td>12.0</td>\n",
       "      <td>-97</td>\n",
       "      <td>0</td>\n",
       "      <td>0</td>\n",
       "      <td>0</td>\n",
       "      <td>12</td>\n",
       "    </tr>\n",
       "    <tr>\n",
       "      <th>3</th>\n",
       "      <td>3</td>\n",
       "      <td>461</td>\n",
       "      <td>492</td>\n",
       "      <td>13.0</td>\n",
       "      <td>-87</td>\n",
       "      <td>0</td>\n",
       "      <td>0</td>\n",
       "      <td>0</td>\n",
       "      <td>13</td>\n",
       "    </tr>\n",
       "    <tr>\n",
       "      <th>4</th>\n",
       "      <td>4</td>\n",
       "      <td>401</td>\n",
       "      <td>136</td>\n",
       "      <td>14.0</td>\n",
       "      <td>-92</td>\n",
       "      <td>0</td>\n",
       "      <td>0</td>\n",
       "      <td>0</td>\n",
       "      <td>14</td>\n",
       "    </tr>\n",
       "  </tbody>\n",
       "</table>\n",
       "</div>"
      ],
      "text/plain": [
       "   Unnamed: 0  user  user2    ts  rssi  weekday  hour  minute  second\n",
       "0           0   780    325   4.0   -93        0     0       0       4\n",
       "1           1   600    632   9.0   -97        0     0       0       9\n",
       "2           2    47    448  12.0   -97        0     0       0      12\n",
       "3           3   461    492  13.0   -87        0     0       0      13\n",
       "4           4   401    136  14.0   -92        0     0       0      14"
      ]
     },
     "execution_count": 4,
     "metadata": {},
     "output_type": "execute_result"
    }
   ],
   "source": [
    "df.head()"
   ]
  },
  {
   "cell_type": "code",
   "execution_count": 5,
   "metadata": {},
   "outputs": [
    {
     "data": {
      "text/plain": [
       "-25"
      ]
     },
     "execution_count": 5,
     "metadata": {},
     "output_type": "execute_result"
    }
   ],
   "source": [
    "df.rssi.max()"
   ]
  },
  {
   "cell_type": "code",
   "execution_count": 6,
   "metadata": {},
   "outputs": [
    {
     "data": {
      "text/plain": [
       "-100"
      ]
     },
     "execution_count": 6,
     "metadata": {},
     "output_type": "execute_result"
    }
   ],
   "source": [
    "df.rssi.min()"
   ]
  },
  {
   "cell_type": "code",
   "execution_count": 7,
   "metadata": {},
   "outputs": [
    {
     "data": {
      "text/plain": [
       "<matplotlib.axes._subplots.AxesSubplot at 0x7f1955eec048>"
      ]
     },
     "execution_count": 7,
     "metadata": {},
     "output_type": "execute_result"
    },
    {
     "data": {
      "image/png": "[encoded data removed]",
      "text/plain": [
       "<matplotlib.figure.Figure at 0x7f1955f4f4e0>"
      ]
     },
     "metadata": {},
     "output_type": "display_data"
    }
   ],
   "source": [
    "sns.distplot(df.rssi, kde=False)"
   ]
  },
  {
   "cell_type": "code",
   "execution_count": 8,
   "metadata": {},
   "outputs": [
    {
     "data": {
      "text/plain": [
       "677454"
      ]
     },
     "execution_count": 8,
     "metadata": {},
     "output_type": "execute_result"
    }
   ],
   "source": [
    "len(df[df.rssi>-95])"
   ]
  },
  {
   "cell_type": "code",
   "execution_count": 9,
   "metadata": {},
   "outputs": [
    {
     "data": {
      "text/plain": [
       "array([    0,     2,     3,     4,     5,     7,     8,     9,    10,\n",
       "          13,    14,    15,    16,    17,    18,    19,    20,    21,\n",
       "          24,    25,    26,    27,    28,    29,    30,    31,    32,\n",
       "          33,    34,    36,    37,    38,    39,    40,    41,    42,\n",
       "          44,    45,    47,    48,    49,    50,    53,    54,    55,\n",
       "          56,    57,    58,    59,    60,    61,    63,    64,    66,\n",
       "          67,    68,    69,    70,    72,    73,    74,    76,    77,\n",
       "          78,    79,    80,    82,    83,    84,    85,    86,    87,\n",
       "          88,    89,    90,    92,    93,    94,    95,    97,    99,\n",
       "         100,   102,   104,   105,   106,   108,   109,   111,   112,\n",
       "         113,   114,   116,   118,   121,   124,   125,   127,   128,\n",
       "         129,   130,   131,   132,   133,   135,   136,   138,   139,\n",
       "         140,   141,   143,   144,   145,   146,   147,   149,   150,\n",
       "         151,   152,   154,   155,   156,   157,   158,   159,   160,\n",
       "         162,   163,   164,   165,   166,   167,   168,   169,   170,\n",
       "         171,   172,   173,   174,   176,   177,   178,   180,   181,\n",
       "         184,   185,   186,   187,   189,   192,   193,   194,   195,\n",
       "         196,   198,   200,   203,   204,   205,   207,   208,   209,\n",
       "         210,   211,   213,   214,   215,   216,   217,   218,   219,\n",
       "         220,   221,   222,   224,   225,   226,   227,   228,   229,\n",
       "         230,   231,   233,   234,   235,   236,   237,   238,   240,\n",
       "         241,   242,   243,   246,   247,   248,   249,   251,   252,\n",
       "         253,   255,   257,   258,   259,   260,   261,   262,   264,\n",
       "         265,   266,   268,   269,   270,   271,   272,   273,   274,\n",
       "         275,   276,   277,   278,   279,   280,   281,   282,   283,\n",
       "         284,   285,   287,   288,   289,   290,   291,   292,   293,\n",
       "         294,   295,   296,   297,   299,   300,   301,   302,   303,\n",
       "         304,   306,   307,   308,   309,   311,   315,   317,   318,\n",
       "         319,   321,   322,   323,   324,   325,   326,   327,   328,\n",
       "         329,   330,   331,   332,   333,   334,   335,   336,   337,\n",
       "         338,   339,   340,   341,   342,   343,   344,   346,   347,\n",
       "         348,   349,   350,   351,   352,   353,   354,   355,   356,\n",
       "         357,   358,   359,   360,   361,   362,   365,   367,   368,\n",
       "         369,   371,   372,   374,   375,   376,   377,   378,   379,\n",
       "         380,   381,   382,   385,   386,   387,   388,   391,   392,\n",
       "         393,   394,   395,   396,   397,   398,   399,   400,   401,\n",
       "         402,   403,   404,   405,   406,   407,   409,   410,   411,\n",
       "         412,   413,   414,   415,   416,   418,   419,   420,   423,\n",
       "         424,   425,   427,   429,   430,   431,   432,   433,   434,\n",
       "         435,   436,   437,   438,   441,   442,   443,   444,   446,\n",
       "         447,   448,   449,   450,   452,   453,   454,   456,   457,\n",
       "         459,   461,   462,   464,   465,   466,   467,   468,   469,\n",
       "         471,   472,   473,   474,   476,   477,   478,   479,   480,\n",
       "         481,   482,   483,   484,   485,   486,   487,   488,   489,\n",
       "         490,   491,   492,   493,   494,   495,   497,   498,   499,\n",
       "         501,   502,   503,   505,   506,   507,   508,   509,   510,\n",
       "         512,   513,   514,   515,   516,   518,   519,   520,   521,\n",
       "         522,   523,   524,   525,   526,   528,   530,   533,   534,\n",
       "         535,   536,   537,   538,   539,   540,   541,   543,   544,\n",
       "         545,   546,   547,   549,   550,   551,   552,   553,   554,\n",
       "         555,   556,   557,   559,   561,   562,   563,   565,   567,\n",
       "         568,   569,   570,   572,   574,   575,   576,   577,   579,\n",
       "         580,   581,   582,   584,   585,   586,   587,   588,   589,\n",
       "         590,   591,   592,   596,   597,   599,   600,   601,   602,\n",
       "         605,   606,   607,   608,   609,   610,   611,   612,   613,\n",
       "         614,   615,   616,   618,   619,   621,   622,   624,   626,\n",
       "         627,   628,   630,   631,   632,   634,   635,   636,   637,\n",
       "         638,   641,   642,   643,   644,   645,   646,   647,   648,\n",
       "         649,   650,   652,   654,   659,   663,   666,   667,   668,\n",
       "         669,   670,   671,   672,   673,   675,   676,   680,   688,\n",
       "         689,   692,   693,   694,   695,   696,   707,   712,   713,\n",
       "         720,   732,   734,   735,   736,   737,   740,   741,   743,\n",
       "         745,   748,   750,   759,   760,   761,   763,   764,   767,\n",
       "         768,   769,   773,   780,   783,   784,   786,   787,   788,\n",
       "         790,   793,   797,   800,   801,   802,   804,   805,   806,\n",
       "         807,   808,   809,   810, 15409, 15410, 15411, 15412, 15413,\n",
       "       15414, 15415, 15416, 15417, 15418, 15419, 15420, 15421, 72704, 72706])"
      ]
     },
     "execution_count": 9,
     "metadata": {},
     "output_type": "execute_result"
    }
   ],
   "source": [
    "np.union1d(df.user.unique(), df.user2.unique())"
   ]
  },
  {
   "cell_type": "code",
   "execution_count": 10,
   "metadata": {
    "collapsed": true
   },
   "outputs": [],
   "source": [
    "strangeusers = df[(df.user>810) | (df.user2>810)]"
   ]
  },
  {
   "cell_type": "code",
   "execution_count": 11,
   "metadata": {},
   "outputs": [
    {
     "data": {
      "text/plain": [
       "1070"
      ]
     },
     "execution_count": 11,
     "metadata": {},
     "output_type": "execute_result"
    }
   ],
   "source": [
    "len(strangeusers)"
   ]
  },
  {
   "cell_type": "code",
   "execution_count": 12,
   "metadata": {
    "collapsed": true
   },
   "outputs": [],
   "source": [
    "df = df[~((df.user>810) | (df.user2>810))]"
   ]
  },
  {
   "cell_type": "code",
   "execution_count": 13,
   "metadata": {},
   "outputs": [
    {
     "data": {
      "text/plain": [
       "(819124, 9)"
      ]
     },
     "execution_count": 13,
     "metadata": {},
     "output_type": "execute_result"
    }
   ],
   "source": [
    "df.shape"
   ]
  },
  {
   "cell_type": "code",
   "execution_count": 14,
   "metadata": {
    "collapsed": true
   },
   "outputs": [],
   "source": [
    "strangeusers = df[(df.user>810) | (df.user2>810)]"
   ]
  },
  {
   "cell_type": "code",
   "execution_count": 15,
   "metadata": {},
   "outputs": [
    {
     "data": {
      "text/plain": [
       "0"
      ]
     },
     "execution_count": 15,
     "metadata": {},
     "output_type": "execute_result"
    }
   ],
   "source": [
    "len(strangeusers)"
   ]
  },
  {
   "cell_type": "code",
   "execution_count": 16,
   "metadata": {},
   "outputs": [
    {
     "data": {
      "text/plain": [
       "array([  0,   2,   3,   4,   5,   7,   8,   9,  10,  13,  14,  15,  16,\n",
       "        17,  18,  19,  20,  21,  24,  25,  26,  27,  28,  29,  30,  31,\n",
       "        32,  33,  34,  36,  37,  38,  39,  40,  41,  42,  44,  45,  47,\n",
       "        48,  49,  50,  53,  54,  55,  56,  57,  58,  59,  60,  61,  63,\n",
       "        64,  66,  67,  68,  69,  70,  72,  73,  74,  76,  77,  78,  79,\n",
       "        80,  82,  83,  84,  85,  86,  87,  88,  89,  90,  92,  93,  94,\n",
       "        95,  97,  99, 100, 102, 104, 105, 106, 108, 109, 111, 112, 113,\n",
       "       114, 116, 118, 121, 124, 125, 127, 128, 129, 130, 131, 132, 133,\n",
       "       135, 136, 138, 139, 140, 141, 143, 144, 145, 146, 147, 149, 150,\n",
       "       151, 152, 154, 155, 156, 157, 158, 159, 160, 162, 163, 164, 165,\n",
       "       166, 167, 168, 169, 170, 171, 172, 173, 174, 176, 177, 178, 180,\n",
       "       181, 184, 185, 186, 187, 189, 192, 193, 194, 195, 196, 198, 200,\n",
       "       203, 204, 205, 207, 208, 209, 210, 211, 213, 214, 215, 216, 217,\n",
       "       218, 219, 220, 221, 222, 224, 225, 226, 227, 228, 229, 230, 231,\n",
       "       233, 234, 235, 236, 237, 238, 240, 241, 242, 243, 246, 247, 248,\n",
       "       249, 251, 252, 253, 255, 257, 258, 259, 260, 261, 262, 264, 265,\n",
       "       266, 268, 269, 270, 271, 272, 273, 274, 275, 276, 277, 278, 279,\n",
       "       280, 281, 282, 283, 284, 285, 287, 288, 289, 290, 291, 292, 293,\n",
       "       294, 295, 296, 297, 299, 300, 301, 302, 303, 304, 306, 307, 308,\n",
       "       309, 311, 315, 317, 318, 319, 321, 322, 323, 324, 325, 326, 327,\n",
       "       328, 329, 330, 331, 332, 333, 334, 335, 336, 337, 338, 339, 340,\n",
       "       341, 342, 343, 344, 346, 347, 348, 349, 350, 351, 352, 353, 354,\n",
       "       355, 356, 357, 358, 359, 360, 361, 362, 365, 367, 368, 369, 371,\n",
       "       372, 374, 375, 376, 377, 378, 379, 380, 381, 382, 385, 386, 387,\n",
       "       388, 391, 392, 393, 394, 395, 396, 397, 398, 399, 400, 401, 402,\n",
       "       403, 404, 405, 406, 407, 409, 410, 411, 412, 413, 414, 415, 416,\n",
       "       418, 419, 420, 423, 424, 425, 427, 429, 430, 431, 432, 433, 434,\n",
       "       435, 436, 437, 438, 441, 442, 443, 444, 446, 447, 448, 449, 450,\n",
       "       452, 453, 454, 456, 457, 459, 461, 462, 464, 465, 466, 467, 468,\n",
       "       469, 471, 472, 473, 474, 476, 477, 478, 479, 480, 481, 482, 483,\n",
       "       484, 485, 486, 487, 488, 489, 490, 491, 492, 493, 494, 495, 497,\n",
       "       498, 499, 501, 502, 503, 505, 506, 507, 508, 509, 510, 512, 513,\n",
       "       514, 515, 516, 518, 519, 520, 521, 522, 523, 524, 525, 526, 528,\n",
       "       530, 533, 534, 535, 536, 537, 538, 539, 540, 541, 543, 544, 545,\n",
       "       546, 547, 549, 550, 551, 552, 553, 554, 555, 556, 557, 559, 561,\n",
       "       562, 563, 565, 567, 568, 569, 570, 572, 574, 575, 576, 577, 579,\n",
       "       580, 581, 582, 584, 585, 586, 587, 588, 589, 590, 591, 592, 596,\n",
       "       597, 599, 600, 601, 602, 605, 606, 607, 608, 609, 610, 611, 612,\n",
       "       613, 614, 615, 616, 618, 619, 621, 622, 624, 626, 627, 628, 630,\n",
       "       631, 632, 634, 635, 636, 637, 638, 641, 642, 643, 644, 645, 646,\n",
       "       647, 648, 649, 650, 652, 654, 659, 663, 666, 667, 668, 669, 670,\n",
       "       671, 672, 673, 675, 676, 680, 688, 689, 692, 693, 694, 695, 696,\n",
       "       707, 712, 713, 720, 732, 734, 735, 736, 737, 740, 741, 743, 745,\n",
       "       748, 750, 759, 760, 761, 763, 764, 767, 768, 769, 773, 780, 783,\n",
       "       784, 786, 787, 788, 790, 793, 797, 800, 801, 802, 804, 805, 806,\n",
       "       807, 808, 809, 810])"
      ]
     },
     "execution_count": 16,
     "metadata": {},
     "output_type": "execute_result"
    }
   ],
   "source": [
    "np.union1d(df.user.unique(), df.user2.unique())"
   ]
  },
  {
   "cell_type": "code",
   "execution_count": 17,
   "metadata": {},
   "outputs": [
    {
     "data": {
      "text/plain": [
       "589"
      ]
     },
     "execution_count": 17,
     "metadata": {},
     "output_type": "execute_result"
    }
   ],
   "source": [
    "len(np.union1d(df.user.unique(), df.user2.unique()))"
   ]
  },
  {
   "cell_type": "code",
   "execution_count": 20,
   "metadata": {
    "collapsed": true
   },
   "outputs": [],
   "source": [
    "df = df[['user','user2','ts','rssi']]"
   ]
  },
  {
   "cell_type": "code",
   "execution_count": 21,
   "metadata": {},
   "outputs": [
    {
     "data": {
      "text/html": [
       "<div>\n",
       "<style>\n",
       "    .dataframe thead tr:only-child th {\n",
       "        text-align: right;\n",
       "    }\n",
       "\n",
       "    .dataframe thead th {\n",
       "        text-align: left;\n",
       "    }\n",
       "\n",
       "    .dataframe tbody tr th {\n",
       "        vertical-align: top;\n",
       "    }\n",
       "</style>\n",
       "<table border=\"1\" class=\"dataframe\">\n",
       "  <thead>\n",
       "    <tr style=\"text-align: right;\">\n",
       "      <th></th>\n",
       "      <th>user</th>\n",
       "      <th>user2</th>\n",
       "      <th>ts</th>\n",
       "      <th>rssi</th>\n",
       "    </tr>\n",
       "  </thead>\n",
       "  <tbody>\n",
       "    <tr>\n",
       "      <th>0</th>\n",
       "      <td>780</td>\n",
       "      <td>325</td>\n",
       "      <td>4.0</td>\n",
       "      <td>-93</td>\n",
       "    </tr>\n",
       "    <tr>\n",
       "      <th>1</th>\n",
       "      <td>600</td>\n",
       "      <td>632</td>\n",
       "      <td>9.0</td>\n",
       "      <td>-97</td>\n",
       "    </tr>\n",
       "    <tr>\n",
       "      <th>2</th>\n",
       "      <td>47</td>\n",
       "      <td>448</td>\n",
       "      <td>12.0</td>\n",
       "      <td>-97</td>\n",
       "    </tr>\n",
       "    <tr>\n",
       "      <th>3</th>\n",
       "      <td>461</td>\n",
       "      <td>492</td>\n",
       "      <td>13.0</td>\n",
       "      <td>-87</td>\n",
       "    </tr>\n",
       "    <tr>\n",
       "      <th>4</th>\n",
       "      <td>401</td>\n",
       "      <td>136</td>\n",
       "      <td>14.0</td>\n",
       "      <td>-92</td>\n",
       "    </tr>\n",
       "  </tbody>\n",
       "</table>\n",
       "</div>"
      ],
      "text/plain": [
       "   user  user2    ts  rssi\n",
       "0   780    325   4.0   -93\n",
       "1   600    632   9.0   -97\n",
       "2    47    448  12.0   -97\n",
       "3   461    492  13.0   -87\n",
       "4   401    136  14.0   -92"
      ]
     },
     "execution_count": 21,
     "metadata": {},
     "output_type": "execute_result"
    }
   ],
   "source": [
    "df.head()"
   ]
  },
  {
   "cell_type": "code",
   "execution_count": 22,
   "metadata": {
    "collapsed": true
   },
   "outputs": [],
   "source": [
    "df.to_csv('sodas_data_cleaned.csv', index=False)"
   ]
  }
 ],
 "metadata": {
  "kernelspec": {
   "display_name": "Python 3",
   "language": "python",
   "name": "python3"
  },
  "language_info": {
   "codemirror_mode": {
    "name": "ipython",
    "version": 3
   },
   "file_extension": ".py",
   "mimetype": "text/x-python",
   "name": "python",
   "nbconvert_exporter": "python",
   "pygments_lexer": "ipython3",
   "version": "3.6.2"
  }
 },
 "nbformat": 4,
 "nbformat_minor": 2
}
